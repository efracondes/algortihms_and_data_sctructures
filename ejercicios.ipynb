{
 "metadata": {
  "language_info": {
   "codemirror_mode": {
    "name": "ipython",
    "version": 3
   },
   "file_extension": ".py",
   "mimetype": "text/x-python",
   "name": "python",
   "nbconvert_exporter": "python",
   "pygments_lexer": "ipython3",
   "version": "3.7.6-final"
  },
  "orig_nbformat": 2,
  "kernelspec": {
   "name": "python3",
   "display_name": "Python 3"
  }
 },
 "nbformat": 4,
 "nbformat_minor": 2,
 "cells": [
  {
   "cell_type": "markdown",
   "metadata": {},
   "source": [
    "# Algoritmos de Busqueda\n",
    "\n",
    "## Problema 1\n",
    "\n",
    "_ Disena un algoritmo que dada una cadena S encuentre y regrese la primera instancia del caracter que no se repite. Si dicho caracter no existe regresar #. Tu algoritmo debe de recorrer una sola vez la cadena S y utilizar O(1) en memoria. La cadena S contiene solo letras minusculas del alfabeto ingles. _\n",
    "\n",
    "### Solucion: \n",
    "\n",
    "Primero creamos dos diccionarios, uno para decirnos la posicion donde se encontro por primera vez cada caracter y el segundo para decirnos la frecuencia en la que aparecio cada caracter. Los diccionarios todos tendran el el numero de llaves de la alfabeto siempre, por lo tanto su tamano no depende del tamano de la cadena y por lo tanto ocupan O(1) memoria."
   ]
  },
  {
   "cell_type": "code",
   "execution_count": 1,
   "metadata": {},
   "outputs": [],
   "source": [
    "def frequency_dict():\n",
    "    keys = list('abcdefghijklmnopqrstuvwxyz') \n",
    "    dict = {}\n",
    "    for char in keys:\n",
    "        dict[char] = 0\n",
    "    return dict\n",
    "\n",
    "def first_appearance_dict():\n",
    "    keys = list('abcdefghijklmnopqrstuvwxyz') \n",
    "    dict = {}\n",
    "    for char in keys:\n",
    "        dict[char] = 'not found yet'\n",
    "    return dict"
   ]
  },
  {
   "cell_type": "markdown",
   "metadata": {},
   "source": [
    "Definamos la siguiente funcion para ejecutar el algoritmo como tal. Recorrera solo una vez la cadena, registrando la posicion de la primera aparicion de cada caracter y la frecuencia con la que aparecio en la cadena"
   ]
  },
  {
   "cell_type": "code",
   "execution_count": 2,
   "metadata": {},
   "outputs": [],
   "source": [
    "def first_non_repeating_char(string):\n",
    "\n",
    "    # Gets the frenquency and first appereance of the charactrers in the string\n",
    "    frequency = frequency_dict()\n",
    "    first_appearance = first_appearance_dict()\n",
    "    # Loops over the string\n",
    "    for position in range(len(string)):\n",
    "        # Gets the character \n",
    "        char = string[position]\n",
    "        # Updates the frequency\n",
    "        frequency[char] = frequency[char] + 1\n",
    "        # Records the position if it's the first time it appears\n",
    "        if first_appearance[char] == 'not found yet':\n",
    "            first_appearance[char] = position\n",
    "\n",
    "    # Finally gets the first non reapiting character\n",
    "    character = '#'\n",
    "    position = float('inf')\n",
    "    # Loops over the alphabet\n",
    "    alphabet = list(frequency.keys())\n",
    "    for char in alphabet:\n",
    "        if frequency[char] == 1:\n",
    "            if first_appearance[char] < position:\n",
    "                character = char\n",
    "                position = first_appearance[char]\n",
    "    \n",
    "    return character  "
   ]
  },
  {
   "cell_type": "markdown",
   "metadata": {
    "tags": []
   },
   "source": [
    "### Ejemplos"
   ]
  },
  {
   "cell_type": "code",
   "execution_count": 3,
   "metadata": {},
   "outputs": [
    {
     "output_type": "execute_result",
     "data": {
      "text/plain": "'f'"
     },
     "metadata": {},
     "execution_count": 3
    }
   ],
   "source": [
    "first_non_repeating_char('geeksforgeeks')"
   ]
  },
  {
   "cell_type": "code",
   "execution_count": 4,
   "metadata": {},
   "outputs": [
    {
     "output_type": "execute_result",
     "data": {
      "text/plain": "'h'"
     },
     "metadata": {},
     "execution_count": 4
    }
   ],
   "source": [
    "first_non_repeating_char('hello')"
   ]
  },
  {
   "cell_type": "code",
   "execution_count": 5,
   "metadata": {},
   "outputs": [
    {
     "output_type": "execute_result",
     "data": {
      "text/plain": "'c'"
     },
     "metadata": {},
     "execution_count": 5
    }
   ],
   "source": [
    "first_non_repeating_char('aaaaabbbbbbcddddddeeeeefggghijkkkk')"
   ]
  },
  {
   "cell_type": "markdown",
   "metadata": {},
   "source": [
    "## Problema 2\n",
    "\n",
    "_ Dado un arreglo ordenado entontrar la posicion de un elemento dado x en tiempo O(log(n)) _\n",
    "\n",
    "### Solucion\n",
    "\n",
    "Para resolver este problema usaremos el algoritmo de busqueda binaria que se implementa a continuacion, el algoritmo hace uso del apradigma divide y venceras. \n",
    "\n",
    "The function takes the following arguments:\n",
    "\n",
    "* low is the lowest index of the array\n",
    "* high is the highest index of the array\n",
    "* value the element to be found"
   ]
  },
  {
   "cell_type": "code",
   "execution_count": 6,
   "metadata": {},
   "outputs": [],
   "source": [
    "def binary_search(array, low, high, value):\n",
    "    # calculates the mid point\n",
    "    mid = int((high - low)/2) + low\n",
    "    # This step checks if high < low wich means that the value is not in the array\n",
    "    if high < low:\n",
    "        return 'the value is not in the array'\n",
    "    # Checks if the mid point is the value we are looking for\n",
    "    elif value == array[mid]:\n",
    "        return mid\n",
    "    # If de value es higher than the mid value then we look for it in the right part of the array\n",
    "    elif value > array[mid]:\n",
    "        return binary_search(array, mid + 1, high, value)\n",
    "    # If de value es lower than the mid value then we look for it in the left part of the array\n",
    "    elif value < array[mid]:\n",
    "        left_part = array[:mid]\n",
    "        return binary_search(array, low, mid - 1, value)"
   ]
  },
  {
   "cell_type": "markdown",
   "metadata": {
    "tags": []
   },
   "source": [
    "### Ejemplos"
   ]
  },
  {
   "cell_type": "code",
   "execution_count": 7,
   "metadata": {
    "tags": []
   },
   "outputs": [],
   "source": [
    "numbers = [-4,-2,0,2,4,6,8,10]\n",
    "low = 0\n",
    "high = len(numbers) - 1"
   ]
  },
  {
   "cell_type": "code",
   "execution_count": 8,
   "metadata": {
    "tags": []
   },
   "outputs": [
    {
     "output_type": "execute_result",
     "data": {
      "text/plain": "0"
     },
     "metadata": {},
     "execution_count": 8
    }
   ],
   "source": [
    "binary_search(numbers, low, high, -4)"
   ]
  },
  {
   "cell_type": "code",
   "execution_count": 9,
   "metadata": {},
   "outputs": [
    {
     "output_type": "execute_result",
     "data": {
      "text/plain": "'the value is not in the array'"
     },
     "metadata": {},
     "execution_count": 9
    }
   ],
   "source": [
    "binary_search(numbers, low, high, -3)"
   ]
  },
  {
   "cell_type": "code",
   "execution_count": 10,
   "metadata": {},
   "outputs": [
    {
     "output_type": "execute_result",
     "data": {
      "text/plain": "1"
     },
     "metadata": {},
     "execution_count": 10
    }
   ],
   "source": [
    "binary_search(numbers, low, high, -2)"
   ]
  },
  {
   "cell_type": "code",
   "execution_count": 11,
   "metadata": {},
   "outputs": [
    {
     "output_type": "execute_result",
     "data": {
      "text/plain": "5"
     },
     "metadata": {},
     "execution_count": 11
    }
   ],
   "source": [
    "binary_search(numbers, low, high, 6)"
   ]
  },
  {
   "cell_type": "markdown",
   "metadata": {},
   "source": [
    "## Problema 3\n",
    "\n",
    "__ Encuentre algun pico en el arreglo (peak finding) __\n",
    "\n",
    "### Solucion:\n",
    "\n",
    "Usaremos una estrategia devide y venceras.\n"
   ]
  },
  {
   "cell_type": "code",
   "execution_count": 12,
   "metadata": {},
   "outputs": [],
   "source": [
    "def peak_finder(array, low, high):\n",
    "    # Finds the mid point\n",
    "    mid = int((high - low)/2) + low\n",
    "    # We're left only with an element of the array returns that element\n",
    "    if low == high:\n",
    "        return low\n",
    "    # Looks for the peak in the left part of the array\n",
    "    elif array[mid - 1] > array[mid]:\n",
    "        return peak_finder(array, low, mid - 1)\n",
    "    # Looks for the peakn in the right part of the array\n",
    "    elif array[mid] < array[mid + 1]:\n",
    "         return peak_finder(array, mid + 1, high)\n",
    "    else:\n",
    "        return mid\n"
   ]
  },
  {
   "cell_type": "markdown",
   "metadata": {
    "tags": []
   },
   "source": [
    "## Problema 4\n",
    "\n",
    "_ Dado un arreglo decir si existe un par de elementos en el arreglo cuya suma sea un numero dado k _\n",
    "\n",
    "### Solucion:\n",
    "\n",
    "Supongamos que podemos calcular el maximo y el minimo del arreglo en tiempo O(n), con esto crearemos un diccionario que ocuparemos para saber si algun elemento ha sido visto.\n"
   ]
  },
  {
   "cell_type": "code",
   "execution_count": 13,
   "metadata": {},
   "outputs": [],
   "source": [
    "def all_num_dic(array, sum_num):\n",
    "    min_el = min(array)\n",
    "    max_el = sum_num - min_el\n",
    "    dic = {num : False for num in range(min_el, max_el + 1)}\n",
    "    return dic"
   ]
  },
  {
   "cell_type": "markdown",
   "metadata": {},
   "source": [
    "Ahora recorreremos el arreglo y buscaremos si el complemento de cada numero ya ha sido visto"
   ]
  },
  {
   "cell_type": "code",
   "execution_count": 14,
   "metadata": {},
   "outputs": [],
   "source": [
    "def are_there_two_nums(array, sum_num):\n",
    "\n",
    "    seen = all_num_dic(array, sum_num)\n",
    "\n",
    "    for num in array:\n",
    "        complement = sum_num - num\n",
    "        if seen[complement]:\n",
    "            return True\n",
    "        else:\n",
    "            seen[num] = True\n",
    "        \n",
    "    return False"
   ]
  },
  {
   "cell_type": "markdown",
   "metadata": {},
   "source": [
    "### Ejemplos"
   ]
  },
  {
   "cell_type": "code",
   "execution_count": 15,
   "metadata": {},
   "outputs": [
    {
     "output_type": "execute_result",
     "data": {
      "text/plain": "False"
     },
     "metadata": {},
     "execution_count": 15
    }
   ],
   "source": [
    "are_there_two_nums([1,2,3,4,5], 100)"
   ]
  },
  {
   "cell_type": "code",
   "execution_count": 16,
   "metadata": {},
   "outputs": [
    {
     "output_type": "execute_result",
     "data": {
      "text/plain": "True"
     },
     "metadata": {},
     "execution_count": 16
    }
   ],
   "source": [
    "are_there_two_nums([1,2,3,4,5], 4)"
   ]
  },
  {
   "cell_type": "markdown",
   "metadata": {},
   "source": [
    "## Problema 5\n",
    "\n",
    "_ Implemente el algoritmo Merge Sort _\n",
    "\n",
    "### Solucion\n",
    "\n",
    "Definamos primero la funcion de Merge"
   ]
  },
  {
   "cell_type": "code",
   "execution_count": 17,
   "metadata": {},
   "outputs": [],
   "source": [
    "def merge(left_array, right_array):\n",
    "    # New list\n",
    "    sorted_list = []\n",
    "    # indexes\n",
    "    i_l = 0 # left array\n",
    "    i_r = 0 # right array\n",
    "    # Lengths\n",
    "    n_l = len(left_array)\n",
    "    n_r = len(right_array)\n",
    "    # Merges the arrays\n",
    "    while i_l < n_l and i_r < n_r:\n",
    "        # Adds the smallest element\n",
    "        if left_array[i_l] <= right_array[i_r]:\n",
    "            sorted_list.append(left_array[i_l])\n",
    "            i_l = i_l + 1\n",
    "        else:\n",
    "            sorted_list.append(right_array[i_r])\n",
    "            i_r = i_r + 1\n",
    "    # Appends the remaining of the arrays\n",
    "    sorted_list = list(sorted_list + left_array[i_l:])\n",
    "    sorted_list = list(sorted_list + right_array[i_r:])\n",
    "    return sorted_list"
   ]
  },
  {
   "cell_type": "markdown",
   "metadata": {},
   "source": [
    "Veamos que funciona"
   ]
  },
  {
   "cell_type": "code",
   "execution_count": 18,
   "metadata": {
    "tags": []
   },
   "outputs": [
    {
     "output_type": "execute_result",
     "data": {
      "text/plain": "[3, 5, 7]"
     },
     "metadata": {},
     "execution_count": 18
    }
   ],
   "source": [
    "merge([7] ,[3, 5])"
   ]
  },
  {
   "cell_type": "markdown",
   "metadata": {},
   "source": [
    "Ahora creemos el algoritmos de merge sort"
   ]
  },
  {
   "cell_type": "code",
   "execution_count": 19,
   "metadata": {},
   "outputs": [],
   "source": [
    "def merge_sort(array):\n",
    "    # Checks for the base case\n",
    "    if len(array) <= 1:\n",
    "        return array\n",
    "    # Divides the instance\n",
    "    else:\n",
    "        mid_point = int(len(array)/2)\n",
    "        left_part = merge_sort(array[:mid_point])\n",
    "        right_part = merge_sort(array[mid_point:])\n",
    "        sorted_array = merge(left_part, right_part)\n",
    "        return sorted_array"
   ]
  },
  {
   "cell_type": "markdown",
   "metadata": {},
   "source": [
    "### Ejemplo "
   ]
  },
  {
   "cell_type": "code",
   "execution_count": 20,
   "metadata": {
    "tags": []
   },
   "outputs": [
    {
     "output_type": "execute_result",
     "data": {
      "text/plain": "[1, 2, 2, 3, 3, 4, 4, 5, 5, 6, 7, 23]"
     },
     "metadata": {},
     "execution_count": 20
    }
   ],
   "source": [
    "merge_sort([4,23,6,4,2,5,7,5,3,3,2,1])"
   ]
  },
  {
   "cell_type": "code",
   "execution_count": 21,
   "metadata": {},
   "outputs": [
    {
     "output_type": "execute_result",
     "data": {
      "text/plain": "[1, 2, 3, 4, 5, 6, 7, 8, 9]"
     },
     "metadata": {},
     "execution_count": 21
    }
   ],
   "source": [
    "merge_sort([1,2,3,4,5,6,7,8,9])"
   ]
  },
  {
   "cell_type": "code",
   "execution_count": 22,
   "metadata": {
    "tags": []
   },
   "outputs": [
    {
     "output_type": "execute_result",
     "data": {
      "text/plain": "[1, 2, 3, 4, 5, 6, 7, 8, 9]"
     },
     "metadata": {},
     "execution_count": 22
    }
   ],
   "source": [
    "merge_sort([9,8,7,6,5,4,3,2,1])"
   ]
  },
  {
   "cell_type": "markdown",
   "metadata": {},
   "source": [
    "## Problema 6\n",
    "\n",
    "_ Implemente el algoritmo de busqueda en graficas conocido como breadth-fisrt search, los nodos y los verices se daran de la siguiente forma: _\n",
    "\n",
    "* Nodos: \\[1,2,3,4,5,6,7\\]\n",
    "* Vertices: \\[(2,3),(4,5),...\\]\n",
    "\n",
    "### Solucion:\n",
    "\n",
    "Primero creemos una funcion que dado un nodo nos devuelva una lista de sus hijos\n",
    "\n"
   ]
  },
  {
   "cell_type": "code",
   "execution_count": 23,
   "metadata": {},
   "outputs": [],
   "source": [
    "def get_sons(vertex, edges):\n",
    "    sons = []\n",
    "    for edge in edges:\n",
    "        if vertex in edge:\n",
    "            if vertex == edge[0]:\n",
    "                sons.append(edge[1])\n",
    "            else:\n",
    "                sons.append(edge[0])\n",
    "    return sons\n"
   ]
  },
  {
   "cell_type": "code",
   "execution_count": 24,
   "metadata": {},
   "outputs": [
    {
     "output_type": "execute_result",
     "data": {
      "text/plain": "[6]"
     },
     "metadata": {},
     "execution_count": 24
    }
   ],
   "source": [
    "vertices = [1,2,3,4,5,6,7]\n",
    "edges = [(1,2),(2,3),(2,4),(5,6),(6,7)]\n",
    "get_sons(7, edges)"
   ]
  },
  {
   "cell_type": "markdown",
   "metadata": {},
   "source": [
    "La sioguiente clase nos ayudara a manejar de mejor forma todo lo que tenga que ver con los vertices"
   ]
  },
  {
   "cell_type": "code",
   "execution_count": 25,
   "metadata": {},
   "outputs": [],
   "source": [
    "class create_vertex:\n",
    "\n",
    "    def __init__(self, vertex_index, edges):\n",
    "        self.index = vertex_index\n",
    "        self.adjacency = get_sons(vertex_index, edges)\n",
    "        self.color = 'w'\n",
    "        self.distance = float('inf')\n",
    "        self.parent = None"
   ]
  },
  {
   "cell_type": "markdown",
   "metadata": {},
   "source": [
    "Ejemplo"
   ]
  },
  {
   "cell_type": "code",
   "execution_count": 26,
   "metadata": {},
   "outputs": [
    {
     "output_type": "execute_result",
     "data": {
      "text/plain": "(2, [1, 3, 4], 'w', inf, None)"
     },
     "metadata": {},
     "execution_count": 26
    }
   ],
   "source": [
    "v = create_vertex(2,edges)\n",
    "v.index, v.adjacency, v.color, v.distance, v.parent"
   ]
  },
  {
   "cell_type": "markdown",
   "metadata": {},
   "source": [
    "Ahora crearemos una diccionario que contenga un objeto veritce por cada entrada, este sera el formato de la entrada del algoritmo"
   ]
  },
  {
   "cell_type": "code",
   "execution_count": 27,
   "metadata": {
    "tags": []
   },
   "outputs": [
    {
     "output_type": "execute_result",
     "data": {
      "text/plain": "{1: <__main__.create_vertex at 0x7fb0dec24280>,\n 2: <__main__.create_vertex at 0x7fb0dec24d90>,\n 3: <__main__.create_vertex at 0x7fb0dec243d0>,\n 4: <__main__.create_vertex at 0x7fb0dec24a90>,\n 5: <__main__.create_vertex at 0x7fb0dec24d60>,\n 6: <__main__.create_vertex at 0x7fb0dec248e0>,\n 7: <__main__.create_vertex at 0x7fb0dec24310>}"
     },
     "metadata": {},
     "execution_count": 27
    }
   ],
   "source": [
    "V = {vertex_index : create_vertex(vertex_index, edges) for vertex_index in vertices}\n",
    "V"
   ]
  },
  {
   "cell_type": "markdown",
   "metadata": {},
   "source": [
    "Finalmente programamos el algoritmo como tal"
   ]
  },
  {
   "cell_type": "code",
   "execution_count": 28,
   "metadata": {},
   "outputs": [],
   "source": [
    "def BFS(vertices, source_vertex):\n",
    "    # Prepraramos al vertice inicial para ser preprocesado\n",
    "    vertices[source_vertex].color = 'g'\n",
    "    vertices[source_vertex].distance = 0\n",
    "    # Queue\n",
    "    queue = [source_vertex]\n",
    "    # Loops over the graph\n",
    "    while len(queue) != 0:\n",
    "        # La lista de adyacencia de u sera explorada en esta iteracion\n",
    "        u = queue.pop(0)\n",
    "        # Iteramos sobre los hijos de u, los pintamos de gris, definimos su distancia y los agregamos a la cola\n",
    "        for v in vertices[u].adjacency:\n",
    "            # Procesa solo los vertices que no han sido vistos aun\n",
    "            if vertices[v].color == 'w':\n",
    "                vertices[v].color = 'g'\n",
    "                vertices[v].distance = vertices[u].distance + 1\n",
    "                queue.append(v)\n",
    "        # Cuando terminemos de visitar por primera vez los hijos de u lo pintamos de negro\n",
    "        vertices[u].color = 'b'\n",
    "\n",
    "    return vertices "
   ]
  },
  {
   "cell_type": "markdown",
   "metadata": {},
   "source": [
    "Probemos el algoritmo"
   ]
  },
  {
   "cell_type": "code",
   "execution_count": 29,
   "metadata": {
    "tags": []
   },
   "outputs": [],
   "source": [
    "vert = [1,2,3,4,5,6,7]\n",
    "edges = [(1,2),(2,3),(2,4),(5,6),(6,7)]\n",
    "V = {vertex_index : create_vertex(vertex_index, edges) for vertex_index in vert}\n",
    "results = BFS(V, 5)"
   ]
  },
  {
   "cell_type": "markdown",
   "metadata": {},
   "source": [
    "Veamos los resultados"
   ]
  },
  {
   "cell_type": "code",
   "execution_count": 30,
   "metadata": {
    "tags": []
   },
   "outputs": [
    {
     "output_type": "stream",
     "name": "stdout",
     "text": "vertex: 1\ndistance from the source: inf\n----------------------------------\nvertex: 2\ndistance from the source: inf\n----------------------------------\nvertex: 3\ndistance from the source: inf\n----------------------------------\nvertex: 4\ndistance from the source: inf\n----------------------------------\nvertex: 5\ndistance from the source: 0\n----------------------------------\nvertex: 6\ndistance from the source: 1\n----------------------------------\nvertex: 7\ndistance from the source: 2\n----------------------------------\n"
    }
   ],
   "source": [
    "for vertex in results.keys():\n",
    "    print('vertex: ' + str(vertex))\n",
    "    print('distance from the source: ' + str(results[vertex].distance))\n",
    "    print('----------------------------------')"
   ]
  },
  {
   "cell_type": "markdown",
   "metadata": {},
   "source": [
    "## Problema 7\n",
    "\n",
    "_ Implemente el algoritmo de busqueda en graficas conocido como depth-fisrt search, los nodos y los verices se daran de la siguiente forma: _\n",
    "\n",
    "* Nodos: \\[1,2,3,4,5,6,7\\]\n",
    "* Vertices: \\[(2,3),(4,5),...\\]\n",
    "\n",
    "### Solucion:\n",
    "\n",
    "Necesitaremos crear una clase para los vertices de la grafica, de forma muy similar a los del problema anterior\n"
   ]
  },
  {
   "cell_type": "code",
   "execution_count": 31,
   "metadata": {},
   "outputs": [],
   "source": [
    "class create_vertex_DSF:\n",
    "\n",
    "    def __init__(self, vertex_index, edges):\n",
    "        self.index = vertex_index\n",
    "        self.adjacency = get_sons(vertex_index, edges)\n",
    "        self.color = 'w'\n",
    "        # Tiempo en el cual fue encontrado\n",
    "        self.d = float('inf')\n",
    "        # Tiempo en el cual se terminaron de procesar todos sus hijos\n",
    "        self.f = float('inf')"
   ]
  },
  {
   "cell_type": "markdown",
   "metadata": {},
   "source": [
    "Debemos crear un discionario parecido al del problema anterior pero acorde con este nuevo tipo de vertice"
   ]
  },
  {
   "cell_type": "code",
   "execution_count": 32,
   "metadata": {},
   "outputs": [
    {
     "output_type": "execute_result",
     "data": {
      "text/plain": "(1, [2], 'w', inf, inf)"
     },
     "metadata": {},
     "execution_count": 32
    }
   ],
   "source": [
    "vert = [1,2,3,4,5,6,7]\n",
    "edges = [(1,2),(2,3),(2,4),(5,6),(6,7)]\n",
    "V = {vertex_index : create_vertex_DSF(vertex_index, edges) for vertex_index in vert}\n",
    "V[1].index, V[1].adjacency, V[1].color, V[1].d, V[1].f"
   ]
  },
  {
   "cell_type": "markdown",
   "metadata": {},
   "source": [
    "Para ejecutar el algoritmo necesitamos las dos siguientes rutinas"
   ]
  },
  {
   "cell_type": "code",
   "execution_count": 38,
   "metadata": {},
   "outputs": [],
   "source": [
    "def DFS_visit(vertices, u, time): # u es el nodo que estamos por procesar\n",
    "    time = time + 1\n",
    "    vertices[u].d = time\n",
    "    vertices[u].color = 'g'\n",
    "    # Exploramos todos su hijos\n",
    "    for v in vertices[u].adjacency:\n",
    "        # Solo visitamos los vertices que no han sido vistos\n",
    "        if vertices[v].color == 'w':\n",
    "            vertices, time = DFS_visit(vertices, v, time)\n",
    "    # terminamos de procesar el vertice u\n",
    "    vertices[u].color = 'b'\n",
    "    time = time + 1\n",
    "    vertices[u].f = time \n",
    "\n",
    "    return vertices, time"
   ]
  },
  {
   "cell_type": "code",
   "execution_count": 39,
   "metadata": {},
   "outputs": [],
   "source": [
    "def DFS(vertices):\n",
    "    time = 0\n",
    "    all_vertices = list(vertices.keys())\n",
    "    for each_v in all_vertices:\n",
    "        # Procesa los vertices que no han sido vistos\n",
    "        if vertices[each_v].color == 'w':\n",
    "            vertices, time = DFS_visit(vertices, each_v, time)\n",
    "    \n",
    "    return vertices"
   ]
  },
  {
   "cell_type": "markdown",
   "metadata": {},
   "source": [
    "Probemos el algoritmo"
   ]
  },
  {
   "cell_type": "code",
   "execution_count": 40,
   "metadata": {},
   "outputs": [
    {
     "output_type": "execute_result",
     "data": {
      "text/plain": "(1, [2, 4], 'w', inf, inf)"
     },
     "metadata": {},
     "execution_count": 40
    }
   ],
   "source": [
    "vert = [1,2,3,4,5,6]\n",
    "edges = [(1,2),(2,3),(1,4),(5,6)]\n",
    "V = {vertex_index : create_vertex_DSF(vertex_index, edges) for vertex_index in vert}\n",
    "V[1].index, V[1].adjacency, V[1].color, V[1].d, V[1].f"
   ]
  },
  {
   "cell_type": "code",
   "execution_count": 41,
   "metadata": {},
   "outputs": [],
   "source": [
    "results = DFS(V)"
   ]
  },
  {
   "cell_type": "code",
   "execution_count": 42,
   "metadata": {
    "tags": []
   },
   "outputs": [
    {
     "output_type": "stream",
     "name": "stdout",
     "text": "vertex: 1\nencontrado en: 1\nfinalizado en: 8\n----------------------------------\nvertex: 2\nencontrado en: 2\nfinalizado en: 5\n----------------------------------\nvertex: 3\nencontrado en: 3\nfinalizado en: 4\n----------------------------------\nvertex: 4\nencontrado en: 6\nfinalizado en: 7\n----------------------------------\nvertex: 5\nencontrado en: 9\nfinalizado en: 12\n----------------------------------\nvertex: 6\nencontrado en: 10\nfinalizado en: 11\n----------------------------------\n"
    }
   ],
   "source": [
    "for vertex in results.keys():\n",
    "    print('vertex: ' + str(vertex))\n",
    "    print('encontrado en: ' + str(results[vertex].d))\n",
    "    print('finalizado en: ' + str(results[vertex].f))\n",
    "    print('----------------------------------')"
   ]
  },
  {
   "cell_type": "code",
   "execution_count": null,
   "metadata": {},
   "outputs": [],
   "source": []
  }
 ]
}